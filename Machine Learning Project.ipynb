{
 "cells": [
  {
   "cell_type": "code",
   "execution_count": 1,
   "metadata": {
    "collapsed": true
   },
   "outputs": [],
   "source": [
    "import pandas as pd\n",
    "import numpy as np\n",
    "import seaborn as sns\n",
    "\n",
    "from scipy.stats import skew\n",
    "\n",
    "%matplotlib inline"
   ]
  },
  {
   "cell_type": "markdown",
   "metadata": {},
   "source": [
    "Import Data\n",
    "======"
   ]
  },
  {
   "cell_type": "code",
   "execution_count": 138,
   "metadata": {
    "collapsed": false
   },
   "outputs": [],
   "source": [
    "house_train = pd.read_csv(\"/home/aeb/Documents/mlproj/mlproj/train.csv\")\n",
    "house_test = pd.read_csv(\"/home/aeb/Documents/mlproj/mlproj/test.csv\")\n",
    "house_all = pd.concat((house_train, house_test))"
   ]
  },
  {
   "cell_type": "markdown",
   "metadata": {},
   "source": [
    "Data Preprocessing and Cleaning\n",
    "===============================\n",
    "\n",
    "Filling in Missing Values\n",
    "-----------------------------"
   ]
  },
  {
   "cell_type": "markdown",
   "metadata": {},
   "source": [
    "Figure out which columns are numerical and which are categorical"
   ]
  },
  {
   "cell_type": "code",
   "execution_count": 139,
   "metadata": {
    "collapsed": false
   },
   "outputs": [],
   "source": [
    "numerical_features = house_all.select_dtypes(include=[\"float\", \"int\", \"bool\"]).columns.values\n",
    "categorical_features = house_all.select_dtypes(include=[\"object\"]).columns.values"
   ]
  },
  {
   "cell_type": "code",
   "execution_count": 140,
   "metadata": {
    "collapsed": false
   },
   "outputs": [
    {
     "name": "stdout",
     "output_type": "stream",
     "text": [
      "['1stFlrSF' '2ndFlrSF' '3SsnPorch' 'BedroomAbvGr' 'BsmtFinSF1' 'BsmtFinSF2'\n",
      " 'BsmtFullBath' 'BsmtHalfBath' 'BsmtUnfSF' 'EnclosedPorch' 'Fireplaces'\n",
      " 'FullBath' 'GarageArea' 'GarageCars' 'GarageYrBlt' 'GrLivArea' 'HalfBath'\n",
      " 'Id' 'KitchenAbvGr' 'LotArea' 'LotFrontage' 'LowQualFinSF' 'MSSubClass'\n",
      " 'MasVnrArea' 'MiscVal' 'MoSold' 'OpenPorchSF' 'OverallCond' 'OverallQual'\n",
      " 'PoolArea' 'SalePrice' 'ScreenPorch' 'TotRmsAbvGrd' 'TotalBsmtSF'\n",
      " 'WoodDeckSF' 'YearBuilt' 'YearRemodAdd' 'YrSold'] \n",
      "\n",
      " ['Alley' 'BldgType' 'BsmtCond' 'BsmtExposure' 'BsmtFinType1' 'BsmtFinType2'\n",
      " 'BsmtQual' 'CentralAir' 'Condition1' 'Condition2' 'Electrical' 'ExterCond'\n",
      " 'ExterQual' 'Exterior1st' 'Exterior2nd' 'Fence' 'FireplaceQu' 'Foundation'\n",
      " 'Functional' 'GarageCond' 'GarageFinish' 'GarageQual' 'GarageType'\n",
      " 'Heating' 'HeatingQC' 'HouseStyle' 'KitchenQual' 'LandContour' 'LandSlope'\n",
      " 'LotConfig' 'LotShape' 'MSZoning' 'MasVnrType' 'MiscFeature'\n",
      " 'Neighborhood' 'PavedDrive' 'PoolQC' 'RoofMatl' 'RoofStyle'\n",
      " 'SaleCondition' 'SaleType' 'Street' 'Utilities']\n"
     ]
    }
   ],
   "source": [
    "print(numerical_features, \"\\n\\n\", categorical_features)"
   ]
  },
  {
   "cell_type": "markdown",
   "metadata": {},
   "source": [
    "Fill in some missing values (mostly categorical), modified from technique described here:\n",
    "\n",
    "https://www.kaggle.com/klyusba/lasso-model-for-regression-problem "
   ]
  },
  {
   "cell_type": "code",
   "execution_count": 129,
   "metadata": {
    "collapsed": false
   },
   "outputs": [],
   "source": [
    "house_all.loc[house_all.Alley.isnull(), 'Alley'] = 'NoAlley'\n",
    "house_all.loc[house_all.MasVnrType.isnull(), 'MasVnrType'] = 'None' # no good\n",
    "house_all.loc[house_all.MasVnrType == 'None', 'MasVnrArea'] = 0\n",
    "house_all.loc[house_all.BsmtQual.isnull(), 'BsmtQual'] = 'NoBsmt'\n",
    "house_all.loc[house_all.BsmtCond.isnull(), 'BsmtCond'] = 'NoBsmt'\n",
    "house_all.loc[house_all.BsmtExposure.isnull(), 'BsmtExposure'] = 'NoBsmt'\n",
    "house_all.loc[house_all.BsmtFinType1.isnull(), 'BsmtFinType1'] = 'NoBsmt'\n",
    "house_all.loc[house_all.BsmtFinType2.isnull(), 'BsmtFinType2'] = 'NoBsmt'\n",
    "house_all.loc[house_all.BsmtFinType1=='NoBsmt', 'BsmtFinSF1'] = 0\n",
    "house_all.loc[house_all.BsmtFinType2=='NoBsmt', 'BsmtFinSF2'] = 0\n",
    "house_all.loc[house_all.BsmtFinSF1.isnull(), 'BsmtFinSF1'] = house_all.BsmtFinSF1.median()\n",
    "house_all.loc[house_all.BsmtQual=='NoBsmt', 'BsmtUnfSF'] = 0\n",
    "house_all.loc[house_all.BsmtUnfSF.isnull(), 'BsmtUnfSF'] = house_all.BsmtUnfSF.median()\n",
    "house_all.loc[house_all.BsmtQual=='NoBsmt', 'TotalBsmtSF'] = 0\n",
    "house_all.loc[house_all.FireplaceQu.isnull(), 'FireplaceQu'] = 'NoFireplace'\n",
    "house_all.loc[house_all.GarageType.isnull(), 'GarageType'] = 'NoGarage'\n",
    "house_all.loc[house_all.GarageFinish.isnull(), 'GarageFinish'] = 'NoGarage'\n",
    "house_all.loc[house_all.GarageQual.isnull(), 'GarageQual'] = 'NoGarage'\n",
    "house_all.loc[house_all.GarageCond.isnull(), 'GarageCond'] = 'NoGarage'\n",
    "house_all.loc[house_all.BsmtFullBath.isnull(), 'BsmtFullBath'] = 0\n",
    "house_all.loc[house_all.BsmtHalfBath.isnull(), 'BsmtHalfBath'] = 0\n",
    "house_all.loc[house_all.KitchenQual.isnull(), 'KitchenQual'] = 'TA'\n",
    "house_all.loc[house_all.MSZoning.isnull(), 'MSZoning'] = 'RL'\n",
    "house_all.loc[house_all.Utilities.isnull(), 'Utilities'] = 'AllPub'\n",
    "house_all.loc[house_all.Exterior1st.isnull(), 'Exterior1st'] = 'VinylSd'\n",
    "house_all.loc[house_all.Exterior2nd.isnull(), 'Exterior2nd'] = 'VinylSd'\n",
    "house_all.loc[house_all.Functional.isnull(), 'Functional'] = 'Typ'\n",
    "house_all.loc[house_all.SaleCondition.isnull(), 'SaleCondition'] = 'Normal'\n",
    "house_all.loc[house_all.SaleCondition.isnull(), 'SaleType'] = 'WD'\n",
    "house_all.loc[house_all['PoolQC'].isnull(), 'PoolQC'] = 'NoPool'\n",
    "house_all.loc[house_all['Fence'].isnull(), 'Fence'] = 'NoFence'\n",
    "house_all.loc[house_all['MiscFeature'].isnull(), 'MiscFeature'] = 'None'\n",
    "house_all.loc[house_all['Electrical'].isnull(), 'Electrical'] = 'SBrkr'\n",
    "# only one is null and it has type Detchd\n",
    "house_all.loc[house_all['GarageArea'].isnull(), 'GarageArea'] = house_all.loc[house_all['GarageType']=='Detchd', 'GarageArea'].mean()\n",
    "house_all.loc[house_all['GarageCars'].isnull(), 'GarageCars'] = house_all.loc[house_all['GarageType']=='Detchd', 'GarageCars'].median()\n",
    "# only one is null, guess it is the most common option WD\n",
    "house_all.loc[house_all['SaleType'].isnull(), 'SaleType'] = 'WD'\n",
    "house_all.loc[house_all['LotFrontage'].isnull(), 'LotFrontage'] = house_all.LotFrontage.median()"
   ]
  },
  {
   "cell_type": "code",
   "execution_count": 130,
   "metadata": {
    "collapsed": false
   },
   "outputs": [],
   "source": [
    "house_all.loc[house_all['GarageYrBlt'].isnull(), 'GarageYrBlt'] = house_all.loc[house_all['GarageYrBlt'].isnull(), 'YearBuilt']"
   ]
  },
  {
   "cell_type": "markdown",
   "metadata": {},
   "source": [
    "Fill any remaining missing numerical values with mean of column"
   ]
  },
  {
   "cell_type": "code",
   "execution_count": 7,
   "metadata": {
    "collapsed": true
   },
   "outputs": [],
   "source": [
    "house_all = house_all.fillna(house_all.mean())"
   ]
  },
  {
   "cell_type": "code",
   "execution_count": 141,
   "metadata": {
    "collapsed": false
   },
   "outputs": [
    {
     "data": {
      "text/plain": [
       "Alley           2721\n",
       "BsmtCond          82\n",
       "BsmtExposure      82\n",
       "BsmtFinSF1         1\n",
       "BsmtFinSF2         1\n",
       "BsmtFinType1      79\n",
       "BsmtFinType2      80\n",
       "BsmtFullBath       2\n",
       "BsmtHalfBath       2\n",
       "BsmtQual          81\n",
       "BsmtUnfSF          1\n",
       "Electrical         1\n",
       "Exterior1st        1\n",
       "Exterior2nd        1\n",
       "Fence           2348\n",
       "FireplaceQu     1420\n",
       "Functional         2\n",
       "GarageArea         1\n",
       "GarageCars         1\n",
       "GarageCond       159\n",
       "GarageFinish     159\n",
       "GarageQual       159\n",
       "GarageType       157\n",
       "GarageYrBlt      159\n",
       "KitchenQual        1\n",
       "LotFrontage      486\n",
       "MSZoning           4\n",
       "MasVnrArea        23\n",
       "MasVnrType        24\n",
       "MiscFeature     2814\n",
       "PoolQC          2909\n",
       "SalePrice       1459\n",
       "SaleType           1\n",
       "TotalBsmtSF        1\n",
       "Utilities          2\n",
       "dtype: int64"
      ]
     },
     "execution_count": 141,
     "metadata": {},
     "output_type": "execute_result"
    }
   ],
   "source": [
    "missing = house_all.isnull().sum()\n",
    "missing[missing != 0]"
   ]
  },
  {
   "cell_type": "markdown",
   "metadata": {},
   "source": [
    "Transform Skewed Variables\n",
    "--------------------------"
   ]
  },
  {
   "cell_type": "markdown",
   "metadata": {},
   "source": [
    "Find the numerical columns whose skewness exceeds a set threshold, and transform them by taking y = log(x + 1)"
   ]
  },
  {
   "cell_type": "code",
   "execution_count": 8,
   "metadata": {
    "collapsed": false
   },
   "outputs": [
    {
     "data": {
      "text/plain": [
       "1stFlrSF          1.375342\n",
       "2ndFlrSF          0.812194\n",
       "3SsnPorch        10.293752\n",
       "BedroomAbvGr      0.211572\n",
       "BsmtFinSF1        1.683771\n",
       "BsmtFinSF2        4.250888\n",
       "BsmtFullBath      0.595454\n",
       "BsmtHalfBath      4.099186\n",
       "BsmtUnfSF         0.919323\n",
       "EnclosedPorch     3.086696\n",
       "Fireplaces        0.648898\n",
       "FullBath          0.036524\n",
       "GarageArea        0.179796\n",
       "GarageCars       -0.342197\n",
       "GarageYrBlt      -0.648708\n",
       "GrLivArea         1.365156\n",
       "HalfBath          0.675203\n",
       "Id                0.000000\n",
       "KitchenAbvGr      4.483784\n",
       "LotArea          12.195142\n",
       "LotFrontage       2.160866\n",
       "LowQualFinSF      9.002080\n",
       "MSSubClass        1.406210\n",
       "MasVnrArea        2.666326\n",
       "MiscVal          24.451640\n",
       "MoSold            0.211835\n",
       "OpenPorchSF       2.361912\n",
       "OverallCond       0.692355\n",
       "OverallQual       0.216721\n",
       "PoolArea         14.813135\n",
       "SalePrice         1.880941\n",
       "ScreenPorch       4.117977\n",
       "TotRmsAbvGrd      0.675646\n",
       "TotalBsmtSF       1.522688\n",
       "WoodDeckSF        1.539792\n",
       "YearBuilt        -0.612831\n",
       "YearRemodAdd     -0.503044\n",
       "YrSold            0.096170\n",
       "dtype: float64"
      ]
     },
     "execution_count": 8,
     "metadata": {},
     "output_type": "execute_result"
    }
   ],
   "source": [
    "house_train[numerical_features].apply(lambda x: skew(x.dropna()))"
   ]
  },
  {
   "cell_type": "code",
   "execution_count": 9,
   "metadata": {
    "collapsed": false
   },
   "outputs": [],
   "source": [
    "SKEWNESS_CUTOFF = 0.75\n",
    "\n",
    "skewed_features = house_train[numerical_features].apply(lambda x: skew(x.dropna()))\n",
    "skewed_features = skewed_features[skewed_features > SKEWNESS_CUTOFF]\n",
    "skewed_features = skewed_features.index\n",
    "\n",
    "house_all[skewed_features] = np.log1p(house_all[skewed_features])"
   ]
  },
  {
   "cell_type": "code",
   "execution_count": 142,
   "metadata": {
    "collapsed": false
   },
   "outputs": [
    {
     "data": {
      "text/plain": [
       "Index(['1stFlrSF', '2ndFlrSF', '3SsnPorch', 'BsmtFinSF1', 'BsmtFinSF2',\n",
       "       'BsmtHalfBath', 'BsmtUnfSF', 'EnclosedPorch', 'GrLivArea',\n",
       "       'KitchenAbvGr', 'LotArea', 'LotFrontage', 'LowQualFinSF', 'MSSubClass',\n",
       "       'MasVnrArea', 'MiscVal', 'OpenPorchSF', 'PoolArea', 'SalePrice',\n",
       "       'ScreenPorch', 'TotalBsmtSF', 'WoodDeckSF'],\n",
       "      dtype='object')"
      ]
     },
     "execution_count": 142,
     "metadata": {},
     "output_type": "execute_result"
    }
   ],
   "source": [
    "skewed_features"
   ]
  },
  {
   "cell_type": "markdown",
   "metadata": {},
   "source": [
    "Convert Categorical Variables to Dummies\n",
    "----------------------------------------------"
   ]
  },
  {
   "cell_type": "code",
   "execution_count": 10,
   "metadata": {
    "collapsed": false
   },
   "outputs": [],
   "source": [
    "house_all = pd.get_dummies(house_all)"
   ]
  },
  {
   "cell_type": "markdown",
   "metadata": {},
   "source": [
    "Split back up into test and training data, drop \"SalePrice\" column from both but save it separately for training data"
   ]
  },
  {
   "cell_type": "markdown",
   "metadata": {},
   "source": [
    "Split Back Into Test and Train\n",
    "----------------------------------"
   ]
  },
  {
   "cell_type": "code",
   "execution_count": 11,
   "metadata": {
    "collapsed": false
   },
   "outputs": [],
   "source": [
    "train_data = house_all[:house_train.shape[0]]\n",
    "test_data = house_all[house_train.shape[0]:]\n",
    "\n",
    "test_data = test_data.drop('SalePrice', axis=1)\n",
    "train_vals = train_data.SalePrice\n",
    "train_data = train_data.drop('SalePrice', axis=1)"
   ]
  },
  {
   "cell_type": "markdown",
   "metadata": {
    "collapsed": false
   },
   "source": [
    "Model Testing\n",
    "=======\n",
    "\n",
    "Ridge Regression\n",
    "------------------"
   ]
  },
  {
   "cell_type": "code",
   "execution_count": 12,
   "metadata": {
    "collapsed": false
   },
   "outputs": [],
   "source": [
    "from sklearn.linear_model import Ridge, RidgeCV, ElasticNet, LassoCV, LassoLarsCV\n",
    "from sklearn.model_selection import cross_val_score"
   ]
  },
  {
   "cell_type": "markdown",
   "metadata": {},
   "source": [
    "Define a function which does cross validation on the training data by splitting it into 5 segments"
   ]
  },
  {
   "cell_type": "code",
   "execution_count": 13,
   "metadata": {
    "collapsed": true
   },
   "outputs": [],
   "source": [
    "def rmse_crossval(model):\n",
    "    return np.sqrt(-cross_val_score(model,\n",
    "                                    train_data,\n",
    "                                    train_vals,\n",
    "                                    scoring=\"neg_mean_squared_error\",\n",
    "                                    cv = 5))"
   ]
  },
  {
   "cell_type": "markdown",
   "metadata": {},
   "source": [
    "Try varying values of alpha and plot the RMSE from cross-validation.  Alpha = 10 is best."
   ]
  },
  {
   "cell_type": "code",
   "execution_count": 14,
   "metadata": {
    "collapsed": false
   },
   "outputs": [
    {
     "data": {
      "text/plain": [
       "<matplotlib.axes._subplots.AxesSubplot at 0x7f3f919b37b8>"
      ]
     },
     "execution_count": 14,
     "metadata": {},
     "output_type": "execute_result"
    },
    {
     "data": {
      "image/png": "[encoded data removed]",
      "text/plain": [
       "<matplotlib.figure.Figure at 0x7f3f8fe6fa90>"
      ]
     },
     "metadata": {},
     "output_type": "display_data"
    }
   ],
   "source": [
    "alphas = [0.05, 0.1, 0.3, 1, 3, 5, 8, 10, 12, 15, 30, 50, 75]\n",
    "ridges = [rmse_crossval(Ridge(alpha = alpha)).mean() for alpha in alphas]\n",
    "\n",
    "pd.Series(ridges, index = alphas).plot()"
   ]
  },
  {
   "cell_type": "code",
   "execution_count": 15,
   "metadata": {
    "collapsed": false
   },
   "outputs": [
    {
     "data": {
      "text/plain": [
       "<matplotlib.axes._subplots.AxesSubplot at 0x7f3f8fe6f128>"
      ]
     },
     "execution_count": 15,
     "metadata": {},
     "output_type": "execute_result"
    },
    {
     "data": {
      "image/png": "[encoded data removed]",
      "text/plain": [
       "<matplotlib.figure.Figure at 0x7f3f8fd8fcc0>"
      ]
     },
     "metadata": {},
     "output_type": "display_data"
    }
   ],
   "source": [
    "ridge_model = Ridge(alpha = 10)\n",
    "predicted_vals = ridge_model.fit(train_data, train_vals).predict(train_data)\n",
    "pd.DataFrame({\"predicted\": predicted_vals,\n",
    "              \"residuals\": train_vals - predicted_vals}).plot(x=\"predicted\", y=\"residuals\", kind=\"scatter\")\n"
   ]
  },
  {
   "cell_type": "markdown",
   "metadata": {},
   "source": [
    "Lasso Model\n",
    "-----------"
   ]
  },
  {
   "cell_type": "code",
   "execution_count": 16,
   "metadata": {
    "collapsed": false
   },
   "outputs": [],
   "source": [
    "lalphas = [1, 0.1, 0.001, 0.0005, 0.0001, 0.00005]\n",
    "lasso_model = LassoCV(alphas = lalphas).fit(train_data, train_vals)"
   ]
  },
  {
   "cell_type": "code",
   "execution_count": 17,
   "metadata": {
    "collapsed": false
   },
   "outputs": [],
   "source": [
    "coef = pd.Series(lasso_model.coef_, index = train_data.columns)"
   ]
  },
  {
   "cell_type": "code",
   "execution_count": 18,
   "metadata": {
    "collapsed": false
   },
   "outputs": [
    {
     "name": "stdout",
     "output_type": "stream",
     "text": [
      "Lasso picked 114 variables and eliminated the other 189 variables\n"
     ]
    }
   ],
   "source": [
    "print(\"Lasso picked \" + str(sum(coef != 0)) + \" variables and eliminated the other \" +  str(sum(coef == 0)) + \" variables\")"
   ]
  },
  {
   "cell_type": "code",
   "execution_count": 19,
   "metadata": {
    "collapsed": false
   },
   "outputs": [
    {
     "data": {
      "text/plain": [
       "<matplotlib.axes._subplots.AxesSubplot at 0x7f3f8fd6c710>"
      ]
     },
     "execution_count": 19,
     "metadata": {},
     "output_type": "execute_result"
    },
    {
     "data": {
      "image/png": "[encoded data removed]",
      "text/plain": [
       "<matplotlib.figure.Figure at 0x7f3f8fcd0588>"
      ]
     },
     "metadata": {},
     "output_type": "display_data"
    }
   ],
   "source": [
    "pd.DataFrame({\"predicted\": lasso_model.predict(train_data),\n",
    "              \"actual\": train_vals - lasso_model.predict(train_data)}).plot(x=\"predicted\", y=\"actual\", kind=\"scatter\")"
   ]
  },
  {
   "cell_type": "code",
   "execution_count": 125,
   "metadata": {
    "collapsed": false
   },
   "outputs": [
    {
     "name": "stdout",
     "output_type": "stream",
     "text": [
      "1stFlrSF                 0.032557\n",
      "2ndFlrSF                -0.003095\n",
      "3SsnPorch                0.002112\n",
      "BedroomAbvGr            -0.000732\n",
      "BsmtFinSF1               0.009273\n",
      "BsmtFinSF2              -0.001548\n",
      "BsmtFullBath             0.026200\n",
      "BsmtHalfBath             0.000000\n",
      "BsmtUnfSF               -0.004098\n",
      "EnclosedPorch            0.003110\n",
      "Fireplaces               0.015933\n",
      "FullBath                 0.021242\n",
      "GarageArea               0.000045\n",
      "GarageCars               0.039113\n",
      "GarageYrBlt              0.000190\n",
      "GrLivArea                0.396447\n",
      "HalfBath                 0.013890\n",
      "Id                      -0.000009\n",
      "KitchenAbvGr            -0.010566\n",
      "LotArea                  0.072012\n",
      "LotFrontage              0.000000\n",
      "LowQualFinSF            -0.004012\n",
      "MSSubClass              -0.008162\n",
      "MasVnrArea              -0.000249\n",
      "MiscVal                 -0.002919\n",
      "MoSold                  -0.000654\n",
      "OpenPorchSF              0.001691\n",
      "OverallCond              0.043253\n",
      "OverallQual              0.052984\n",
      "PoolArea                 0.003411\n",
      "                           ...   \n",
      "RoofMatl_Metal           0.000000\n",
      "RoofMatl_Roll            0.000000\n",
      "RoofMatl_Tar&Grv        -0.000000\n",
      "RoofMatl_WdShake         0.000000\n",
      "RoofMatl_WdShngl         0.038289\n",
      "RoofStyle_Flat          -0.000000\n",
      "RoofStyle_Gable         -0.001342\n",
      "RoofStyle_Gambrel       -0.000000\n",
      "RoofStyle_Hip            0.000000\n",
      "RoofStyle_Mansard        0.000000\n",
      "RoofStyle_Shed           0.000000\n",
      "SaleCondition_Abnorml   -0.045708\n",
      "SaleCondition_AdjLand    0.000000\n",
      "SaleCondition_Alloca    -0.000000\n",
      "SaleCondition_Family    -0.006856\n",
      "SaleCondition_Normal     0.020558\n",
      "SaleCondition_Partial    0.000000\n",
      "SaleType_COD            -0.009389\n",
      "SaleType_CWD             0.000000\n",
      "SaleType_Con             0.000000\n",
      "SaleType_ConLD           0.000000\n",
      "SaleType_ConLI          -0.000000\n",
      "SaleType_ConLw          -0.000000\n",
      "SaleType_New             0.023979\n",
      "SaleType_Oth             0.000000\n",
      "SaleType_WD             -0.029161\n",
      "Street_Grvl             -0.000000\n",
      "Street_Pave              0.000000\n",
      "Utilities_AllPub         0.000000\n",
      "Utilities_NoSeWa        -0.000000\n",
      "Length: 303, dtype: float64\n"
     ]
    }
   ],
   "source": [
    "abs(coef).sort_values()\n",
    "print(coef)"
   ]
  },
  {
   "cell_type": "markdown",
   "metadata": {},
   "source": [
    "Support Vector Regression\n",
    "-------------------------"
   ]
  },
  {
   "cell_type": "code",
   "execution_count": 21,
   "metadata": {
    "collapsed": false
   },
   "outputs": [],
   "source": [
    "from sklearn.svm import SVR"
   ]
  },
  {
   "cell_type": "code",
   "execution_count": 22,
   "metadata": {
    "collapsed": false
   },
   "outputs": [
    {
     "data": {
      "text/plain": [
       "array([ 12.23771285,  12.09899609,  12.30705582, ...,  12.48319637,\n",
       "        11.87449455,  11.91164323])"
      ]
     },
     "execution_count": 22,
     "metadata": {},
     "output_type": "execute_result"
    }
   ],
   "source": [
    "svr_model = SVR(epsilon=0.01)\n",
    "svr_model.fit(train_data, train_vals).predict(train_data)"
   ]
  },
  {
   "cell_type": "code",
   "execution_count": 60,
   "metadata": {
    "collapsed": false
   },
   "outputs": [
    {
     "name": "stdout",
     "output_type": "stream",
     "text": [
      "0.398677219498\n"
     ]
    },
    {
     "data": {
      "text/plain": [
       "<matplotlib.axes._subplots.AxesSubplot at 0x7f3f8a8dd240>"
      ]
     },
     "execution_count": 60,
     "metadata": {},
     "output_type": "execute_result"
    },
    {
     "data": {
      "image/png": "[encoded data removed]",
      "text/plain": [
       "<matplotlib.figure.Figure at 0x7f3f8a971e80>"
      ]
     },
     "metadata": {},
     "output_type": "display_data"
    }
   ],
   "source": [
    "svr_predictions = svr_model.fit(train_data, train_vals).predict(train_data)\n",
    "\n",
    "print(rmse_crossval(svr_model).mean())\n",
    "\n",
    "pd.DataFrame({\"predicted\": svr_predictions,\n",
    "              \"residuals\": train_vals - svr_predictions}).plot(x=\"predicted\",\n",
    "                                                               y=\"residuals\",\n",
    "                                                               kind=\"scatter\")"
   ]
  },
  {
   "cell_type": "code",
   "execution_count": 47,
   "metadata": {
    "collapsed": false
   },
   "outputs": [
    {
     "data": {
      "text/plain": [
       "array([ 0.38641219,  0.4244922 ,  0.40980822,  0.38132644,  0.39134704])"
      ]
     },
     "execution_count": 47,
     "metadata": {},
     "output_type": "execute_result"
    }
   ],
   "source": [
    "rmse_crossval(svr_model)"
   ]
  },
  {
   "cell_type": "markdown",
   "metadata": {},
   "source": [
    "Random Forest\n",
    "-------------"
   ]
  },
  {
   "cell_type": "code",
   "execution_count": 24,
   "metadata": {
    "collapsed": false
   },
   "outputs": [],
   "source": [
    "from sklearn.ensemble import RandomForestRegressor"
   ]
  },
  {
   "cell_type": "code",
   "execution_count": 53,
   "metadata": {
    "collapsed": false
   },
   "outputs": [
    {
     "name": "stdout",
     "output_type": "stream",
     "text": [
      "Mean RSME:  0.153698315367\n"
     ]
    },
    {
     "data": {
      "text/plain": [
       "<matplotlib.axes._subplots.AxesSubplot at 0x7f3f8a813d68>"
      ]
     },
     "execution_count": 53,
     "metadata": {},
     "output_type": "execute_result"
    },
    {
     "data": {
      "image/png": "[encoded data removed]",
      "text/plain": [
       "<matplotlib.figure.Figure at 0x7f3f8a7880f0>"
      ]
     },
     "metadata": {},
     "output_type": "display_data"
    }
   ],
   "source": [
    "rf = RandomForestRegressor(n_estimators=10)\n",
    "rf_predictions = rf.fit(train_data, train_vals).predict(train_data)\n",
    "\n",
    "print(\"Mean RSME: \", rmse_crossval(rf).mean())\n",
    "\n",
    "pd.DataFrame({\"predicted\": rf_predictions,\n",
    "              \"residuals\": train_vals - rf_predictions}).plot(x=\"predicted\", y=\"residuals\", kind=\"scatter\")"
   ]
  },
  {
   "cell_type": "markdown",
   "metadata": {},
   "source": [
    "XGBoost\n",
    "-------"
   ]
  },
  {
   "cell_type": "code",
   "execution_count": 32,
   "metadata": {
    "collapsed": false
   },
   "outputs": [],
   "source": [
    "from xgboost.sklearn import XGBRegressor"
   ]
  },
  {
   "cell_type": "code",
   "execution_count": 54,
   "metadata": {
    "collapsed": false
   },
   "outputs": [
    {
     "name": "stdout",
     "output_type": "stream",
     "text": [
      "Mean RSME:  0.129364246364\n"
     ]
    },
    {
     "data": {
      "text/plain": [
       "<matplotlib.axes._subplots.AxesSubplot at 0x7f3f8a7849e8>"
      ]
     },
     "execution_count": 54,
     "metadata": {},
     "output_type": "execute_result"
    },
    {
     "data": {
      "image/png": "[encoded data removed]",
      "text/plain": [
       "<matplotlib.figure.Figure at 0x7f3f8a771358>"
      ]
     },
     "metadata": {},
     "output_type": "display_data"
    }
   ],
   "source": [
    "xgb = XGBRegressor()\n",
    "xg_predictions = xgb.fit(train_data, train_vals).predict(train_data)\n",
    "\n",
    "print(\"Mean RSME: \", rmse_crossval(xgb).mean())\n",
    "\n",
    "pd.DataFrame({\"predicted\": xg_predictions,\n",
    "              \"residuals\": train_vals - xg_predictions}).plot(x=\"predicted\", y=\"residuals\", kind=\"scatter\")"
   ]
  },
  {
   "cell_type": "code",
   "execution_count": 63,
   "metadata": {
    "collapsed": false
   },
   "outputs": [
    {
     "data": {
      "text/plain": [
       "<matplotlib.axes._subplots.AxesSubplot at 0x7f3f88d6a320>"
      ]
     },
     "execution_count": 63,
     "metadata": {},
     "output_type": "execute_result"
    },
    {
     "data": {
      "image/png": "[encoded data removed]",
      "text/plain": [
       "<matplotlib.figure.Figure at 0x7f3f88cf8400>"
      ]
     },
     "metadata": {},
     "output_type": "display_data"
    }
   ],
   "source": [
    "pd.DataFrame({\"predicted\": np.expm1(xg_predictions),\n",
    "              \"residuals\": np.expm1(train_vals) - np.expm1(xg_predictions)}).plot(x=\"predicted\", y=\"residuals\", kind=\"scatter\")"
   ]
  },
  {
   "cell_type": "code",
   "execution_count": 61,
   "metadata": {
    "collapsed": false
   },
   "outputs": [
    {
     "data": {
      "text/plain": [
       "Index(['1stFlrSF', '2ndFlrSF', '3SsnPorch', 'BsmtFinSF1', 'BsmtFinSF2',\n",
       "       'BsmtHalfBath', 'BsmtUnfSF', 'EnclosedPorch', 'GrLivArea',\n",
       "       'KitchenAbvGr', 'LotArea', 'LotFrontage', 'LowQualFinSF', 'MSSubClass',\n",
       "       'MasVnrArea', 'MiscVal', 'OpenPorchSF', 'PoolArea', 'SalePrice',\n",
       "       'ScreenPorch', 'TotalBsmtSF', 'WoodDeckSF'],\n",
       "      dtype='object')"
      ]
     },
     "execution_count": 61,
     "metadata": {},
     "output_type": "execute_result"
    }
   ],
   "source": [
    "skewed_features"
   ]
  },
  {
   "cell_type": "code",
   "execution_count": null,
   "metadata": {
    "collapsed": true
   },
   "outputs": [],
   "source": []
  }
 ],
 "metadata": {
  "kernelspec": {
   "display_name": "Python 3",
   "language": "python",
   "name": "python3"
  },
  "language_info": {
   "codemirror_mode": {
    "name": "ipython",
    "version": 3
   },
   "file_extension": ".py",
   "mimetype": "text/x-python",
   "name": "python",
   "nbconvert_exporter": "python",
   "pygments_lexer": "ipython3",
   "version": "3.5.3"
  }
 },
 "nbformat": 4,
 "nbformat_minor": 2
}
