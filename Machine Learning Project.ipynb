{
 "cells": [
  {
   "cell_type": "code",
   "execution_count": 27,
   "metadata": {
    "collapsed": true
   },
   "outputs": [],
   "source": [
    "import pandas as pd\n",
    "import numpy as np\n",
    "import seaborn as sns\n",
    "\n",
    "from scipy.stats import skew\n",
    "\n",
    "%matplotlib inline"
   ]
  },
  {
   "cell_type": "markdown",
   "metadata": {},
   "source": [
    "Import Data\n",
    "======"
   ]
  },
  {
   "cell_type": "code",
   "execution_count": 28,
   "metadata": {
    "collapsed": false
   },
   "outputs": [],
   "source": [
    "house_train = pd.read_csv(\"/home/aeb/Documents/mlproj/mlproj/train.csv\")\n",
    "house_test = pd.read_csv(\"/home/aeb/Documents/mlproj/mlproj/test.csv\")\n",
    "house_all = pd.concat((house_train, house_test))"
   ]
  },
  {
   "cell_type": "markdown",
   "metadata": {},
   "source": [
    "Data Preprocessing and Cleaning\n",
    "===============================\n",
    "\n",
    "Filling in Missing Values\n",
    "-----------------------------"
   ]
  },
  {
   "cell_type": "markdown",
   "metadata": {},
   "source": [
    "Figure out which columns are numerical and which are categorical"
   ]
  },
  {
   "cell_type": "code",
   "execution_count": 29,
   "metadata": {
    "collapsed": true
   },
   "outputs": [],
   "source": [
    "numerical_features = house_all.select_dtypes(include=[\"float\", \"int\", \"bool\"]).columns.values\n",
    "categorical_features = house_all.select_dtypes(include=[\"object\"]).columns.values"
   ]
  },
  {
   "cell_type": "code",
   "execution_count": 30,
   "metadata": {
    "collapsed": false
   },
   "outputs": [
    {
     "name": "stdout",
     "output_type": "stream",
     "text": [
      "['1stFlrSF' '2ndFlrSF' '3SsnPorch' 'BedroomAbvGr' 'BsmtFinSF1' 'BsmtFinSF2'\n",
      " 'BsmtFullBath' 'BsmtHalfBath' 'BsmtUnfSF' 'EnclosedPorch' 'Fireplaces'\n",
      " 'FullBath' 'GarageArea' 'GarageCars' 'GarageYrBlt' 'GrLivArea' 'HalfBath'\n",
      " 'Id' 'KitchenAbvGr' 'LotArea' 'LotFrontage' 'LowQualFinSF' 'MSSubClass'\n",
      " 'MasVnrArea' 'MiscVal' 'MoSold' 'OpenPorchSF' 'OverallCond' 'OverallQual'\n",
      " 'PoolArea' 'SalePrice' 'ScreenPorch' 'TotRmsAbvGrd' 'TotalBsmtSF'\n",
      " 'WoodDeckSF' 'YearBuilt' 'YearRemodAdd' 'YrSold'] \n",
      "\n",
      " ['Alley' 'BldgType' 'BsmtCond' 'BsmtExposure' 'BsmtFinType1' 'BsmtFinType2'\n",
      " 'BsmtQual' 'CentralAir' 'Condition1' 'Condition2' 'Electrical' 'ExterCond'\n",
      " 'ExterQual' 'Exterior1st' 'Exterior2nd' 'Fence' 'FireplaceQu' 'Foundation'\n",
      " 'Functional' 'GarageCond' 'GarageFinish' 'GarageQual' 'GarageType'\n",
      " 'Heating' 'HeatingQC' 'HouseStyle' 'KitchenQual' 'LandContour' 'LandSlope'\n",
      " 'LotConfig' 'LotShape' 'MSZoning' 'MasVnrType' 'MiscFeature'\n",
      " 'Neighborhood' 'PavedDrive' 'PoolQC' 'RoofMatl' 'RoofStyle'\n",
      " 'SaleCondition' 'SaleType' 'Street' 'Utilities']\n"
     ]
    }
   ],
   "source": [
    "print(numerical_features, \"\\n\\n\", categorical_features)"
   ]
  },
  {
   "cell_type": "markdown",
   "metadata": {},
   "source": [
    "Fill in some missing values (mostly categorical), modified from technique described here:\n",
    "\n",
    "https://www.kaggle.com/klyusba/lasso-model-for-regression-problem "
   ]
  },
  {
   "cell_type": "code",
   "execution_count": 31,
   "metadata": {
    "collapsed": true
   },
   "outputs": [],
   "source": [
    "house_all.loc[house_all.Alley.isnull(), 'Alley'] = 'NoAlley'\n",
    "house_all.loc[house_all.MasVnrType.isnull(), 'MasVnrType'] = 'None' # no good\n",
    "house_all.loc[house_all.MasVnrType == 'None', 'MasVnrArea'] = 0\n",
    "house_all.loc[house_all.BsmtQual.isnull(), 'BsmtQual'] = 'NoBsmt'\n",
    "house_all.loc[house_all.BsmtCond.isnull(), 'BsmtCond'] = 'NoBsmt'\n",
    "house_all.loc[house_all.BsmtExposure.isnull(), 'BsmtExposure'] = 'NoBsmt'\n",
    "house_all.loc[house_all.BsmtFinType1.isnull(), 'BsmtFinType1'] = 'NoBsmt'\n",
    "house_all.loc[house_all.BsmtFinType2.isnull(), 'BsmtFinType2'] = 'NoBsmt'\n",
    "house_all.loc[house_all.BsmtFinType1=='NoBsmt', 'BsmtFinSF1'] = 0\n",
    "house_all.loc[house_all.BsmtFinType2=='NoBsmt', 'BsmtFinSF2'] = 0\n",
    "house_all.loc[house_all.BsmtFinSF1.isnull(), 'BsmtFinSF1'] = house_all.BsmtFinSF1.median()\n",
    "house_all.loc[house_all.BsmtQual=='NoBsmt', 'BsmtUnfSF'] = 0\n",
    "house_all.loc[house_all.BsmtUnfSF.isnull(), 'BsmtUnfSF'] = house_all.BsmtUnfSF.median()\n",
    "house_all.loc[house_all.BsmtQual=='NoBsmt', 'TotalBsmtSF'] = 0\n",
    "house_all.loc[house_all.FireplaceQu.isnull(), 'FireplaceQu'] = 'NoFireplace'\n",
    "house_all.loc[house_all.GarageType.isnull(), 'GarageType'] = 'NoGarage'\n",
    "house_all.loc[house_all.GarageFinish.isnull(), 'GarageFinish'] = 'NoGarage'\n",
    "house_all.loc[house_all.GarageQual.isnull(), 'GarageQual'] = 'NoGarage'\n",
    "house_all.loc[house_all.GarageCond.isnull(), 'GarageCond'] = 'NoGarage'\n",
    "house_all.loc[house_all.BsmtFullBath.isnull(), 'BsmtFullBath'] = 0\n",
    "house_all.loc[house_all.BsmtHalfBath.isnull(), 'BsmtHalfBath'] = 0\n",
    "house_all.loc[house_all.KitchenQual.isnull(), 'KitchenQual'] = 'TA'\n",
    "house_all.loc[house_all.MSZoning.isnull(), 'MSZoning'] = 'RL'\n",
    "house_all.loc[house_all.Utilities.isnull(), 'Utilities'] = 'AllPub'\n",
    "house_all.loc[house_all.Exterior1st.isnull(), 'Exterior1st'] = 'VinylSd'\n",
    "house_all.loc[house_all.Exterior2nd.isnull(), 'Exterior2nd'] = 'VinylSd'\n",
    "house_all.loc[house_all.Functional.isnull(), 'Functional'] = 'Typ'\n",
    "house_all.loc[house_all.SaleCondition.isnull(), 'SaleCondition'] = 'Normal'\n",
    "house_all.loc[house_all.SaleCondition.isnull(), 'SaleType'] = 'WD'\n",
    "house_all.loc[house_all['PoolQC'].isnull(), 'PoolQC'] = 'NoPool'\n",
    "house_all.loc[house_all['Fence'].isnull(), 'Fence'] = 'NoFence'\n",
    "house_all.loc[house_all['MiscFeature'].isnull(), 'MiscFeature'] = 'None'\n",
    "house_all.loc[house_all['Electrical'].isnull(), 'Electrical'] = 'SBrkr'\n",
    "# only one is null and it has type Detchd\n",
    "house_all.loc[house_all['GarageArea'].isnull(), 'GarageArea'] = house_all.loc[house_all['GarageType']=='Detchd', 'GarageArea'].mean()\n",
    "house_all.loc[house_all['GarageCars'].isnull(), 'GarageCars'] = house_all.loc[house_all['GarageType']=='Detchd', 'GarageCars'].median()\n",
    "# only one is null, guess it is the most common option WD\n",
    "house_all.loc[house_all['SaleType'].isnull(), 'SaleType'] = 'WD'"
   ]
  },
  {
   "cell_type": "markdown",
   "metadata": {},
   "source": [
    "Fill any remaining missing numerical values with mean of column"
   ]
  },
  {
   "cell_type": "code",
   "execution_count": 32,
   "metadata": {
    "collapsed": true
   },
   "outputs": [],
   "source": [
    "house_all = house_all.fillna(house_all.mean())"
   ]
  },
  {
   "cell_type": "markdown",
   "metadata": {},
   "source": [
    "Transform Skewed Variables\n",
    "--------------------------"
   ]
  },
  {
   "cell_type": "markdown",
   "metadata": {},
   "source": [
    "Find the numerical columns whose skewness exceeds a set threshold, and transform them by taking y = log(x + 1)"
   ]
  },
  {
   "cell_type": "code",
   "execution_count": 33,
   "metadata": {
    "collapsed": false
   },
   "outputs": [],
   "source": [
    "SKEWNESS_CUTOFF = 0.75\n",
    "\n",
    "skewed_features = house_train[numerical_features].apply(lambda x: skew(x.dropna()))\n",
    "skewed_features = skewed_features[skewed_features > SKEWNESS_CUTOFF]\n",
    "skewed_features = skewed_features.index\n",
    "\n",
    "house_all[skewed_features] = np.log1p(house_all[skewed_features])"
   ]
  },
  {
   "cell_type": "markdown",
   "metadata": {},
   "source": [
    "Convert Categorical Variables to Dummies\n",
    "----------------------------------------------"
   ]
  },
  {
   "cell_type": "code",
   "execution_count": 34,
   "metadata": {
    "collapsed": false
   },
   "outputs": [],
   "source": [
    "house_all = pd.get_dummies(house_all)"
   ]
  },
  {
   "cell_type": "markdown",
   "metadata": {},
   "source": [
    "Split back up into test and training data, drop \"SalePrice\" column from both but save it separately for training data"
   ]
  },
  {
   "cell_type": "markdown",
   "metadata": {},
   "source": [
    "Split Back Into Test and Train\n",
    "----------------------------------"
   ]
  },
  {
   "cell_type": "code",
   "execution_count": 42,
   "metadata": {
    "collapsed": false
   },
   "outputs": [
    {
     "data": {
      "text/html": [
       "<div>\n",
       "<style>\n",
       "    .dataframe thead tr:only-child th {\n",
       "        text-align: right;\n",
       "    }\n",
       "\n",
       "    .dataframe thead th {\n",
       "        text-align: left;\n",
       "    }\n",
       "\n",
       "    .dataframe tbody tr th {\n",
       "        vertical-align: top;\n",
       "    }\n",
       "</style>\n",
       "<table border=\"1\" class=\"dataframe\">\n",
       "  <thead>\n",
       "    <tr style=\"text-align: right;\">\n",
       "      <th></th>\n",
       "      <th>1stFlrSF</th>\n",
       "      <th>2ndFlrSF</th>\n",
       "      <th>3SsnPorch</th>\n",
       "      <th>BedroomAbvGr</th>\n",
       "      <th>BsmtFinSF1</th>\n",
       "      <th>BsmtFinSF2</th>\n",
       "      <th>BsmtFullBath</th>\n",
       "      <th>BsmtHalfBath</th>\n",
       "      <th>BsmtUnfSF</th>\n",
       "      <th>EnclosedPorch</th>\n",
       "      <th>...</th>\n",
       "      <th>SaleType_ConLD</th>\n",
       "      <th>SaleType_ConLI</th>\n",
       "      <th>SaleType_ConLw</th>\n",
       "      <th>SaleType_New</th>\n",
       "      <th>SaleType_Oth</th>\n",
       "      <th>SaleType_WD</th>\n",
       "      <th>Street_Grvl</th>\n",
       "      <th>Street_Pave</th>\n",
       "      <th>Utilities_AllPub</th>\n",
       "      <th>Utilities_NoSeWa</th>\n",
       "    </tr>\n",
       "  </thead>\n",
       "  <tbody>\n",
       "    <tr>\n",
       "      <th>0</th>\n",
       "      <td>6.753438</td>\n",
       "      <td>6.751101</td>\n",
       "      <td>0.0</td>\n",
       "      <td>3</td>\n",
       "      <td>6.561031</td>\n",
       "      <td>0.0</td>\n",
       "      <td>1.0</td>\n",
       "      <td>0.000000</td>\n",
       "      <td>5.017280</td>\n",
       "      <td>0.000000</td>\n",
       "      <td>...</td>\n",
       "      <td>0</td>\n",
       "      <td>0</td>\n",
       "      <td>0</td>\n",
       "      <td>0</td>\n",
       "      <td>0</td>\n",
       "      <td>1</td>\n",
       "      <td>0</td>\n",
       "      <td>1</td>\n",
       "      <td>1</td>\n",
       "      <td>0</td>\n",
       "    </tr>\n",
       "    <tr>\n",
       "      <th>1</th>\n",
       "      <td>7.141245</td>\n",
       "      <td>0.000000</td>\n",
       "      <td>0.0</td>\n",
       "      <td>3</td>\n",
       "      <td>6.886532</td>\n",
       "      <td>0.0</td>\n",
       "      <td>0.0</td>\n",
       "      <td>0.693147</td>\n",
       "      <td>5.652489</td>\n",
       "      <td>0.000000</td>\n",
       "      <td>...</td>\n",
       "      <td>0</td>\n",
       "      <td>0</td>\n",
       "      <td>0</td>\n",
       "      <td>0</td>\n",
       "      <td>0</td>\n",
       "      <td>1</td>\n",
       "      <td>0</td>\n",
       "      <td>1</td>\n",
       "      <td>1</td>\n",
       "      <td>0</td>\n",
       "    </tr>\n",
       "    <tr>\n",
       "      <th>2</th>\n",
       "      <td>6.825460</td>\n",
       "      <td>6.765039</td>\n",
       "      <td>0.0</td>\n",
       "      <td>3</td>\n",
       "      <td>6.188264</td>\n",
       "      <td>0.0</td>\n",
       "      <td>1.0</td>\n",
       "      <td>0.000000</td>\n",
       "      <td>6.075346</td>\n",
       "      <td>0.000000</td>\n",
       "      <td>...</td>\n",
       "      <td>0</td>\n",
       "      <td>0</td>\n",
       "      <td>0</td>\n",
       "      <td>0</td>\n",
       "      <td>0</td>\n",
       "      <td>1</td>\n",
       "      <td>0</td>\n",
       "      <td>1</td>\n",
       "      <td>1</td>\n",
       "      <td>0</td>\n",
       "    </tr>\n",
       "    <tr>\n",
       "      <th>3</th>\n",
       "      <td>6.869014</td>\n",
       "      <td>6.629363</td>\n",
       "      <td>0.0</td>\n",
       "      <td>3</td>\n",
       "      <td>5.379897</td>\n",
       "      <td>0.0</td>\n",
       "      <td>1.0</td>\n",
       "      <td>0.000000</td>\n",
       "      <td>6.293419</td>\n",
       "      <td>5.609472</td>\n",
       "      <td>...</td>\n",
       "      <td>0</td>\n",
       "      <td>0</td>\n",
       "      <td>0</td>\n",
       "      <td>0</td>\n",
       "      <td>0</td>\n",
       "      <td>1</td>\n",
       "      <td>0</td>\n",
       "      <td>1</td>\n",
       "      <td>1</td>\n",
       "      <td>0</td>\n",
       "    </tr>\n",
       "    <tr>\n",
       "      <th>4</th>\n",
       "      <td>7.044033</td>\n",
       "      <td>6.960348</td>\n",
       "      <td>0.0</td>\n",
       "      <td>4</td>\n",
       "      <td>6.486161</td>\n",
       "      <td>0.0</td>\n",
       "      <td>1.0</td>\n",
       "      <td>0.000000</td>\n",
       "      <td>6.196444</td>\n",
       "      <td>0.000000</td>\n",
       "      <td>...</td>\n",
       "      <td>0</td>\n",
       "      <td>0</td>\n",
       "      <td>0</td>\n",
       "      <td>0</td>\n",
       "      <td>0</td>\n",
       "      <td>1</td>\n",
       "      <td>0</td>\n",
       "      <td>1</td>\n",
       "      <td>1</td>\n",
       "      <td>0</td>\n",
       "    </tr>\n",
       "  </tbody>\n",
       "</table>\n",
       "<p>5 rows × 303 columns</p>\n",
       "</div>"
      ],
      "text/plain": [
       "   1stFlrSF  2ndFlrSF  3SsnPorch  BedroomAbvGr  BsmtFinSF1  BsmtFinSF2  \\\n",
       "0  6.753438  6.751101        0.0             3    6.561031         0.0   \n",
       "1  7.141245  0.000000        0.0             3    6.886532         0.0   \n",
       "2  6.825460  6.765039        0.0             3    6.188264         0.0   \n",
       "3  6.869014  6.629363        0.0             3    5.379897         0.0   \n",
       "4  7.044033  6.960348        0.0             4    6.486161         0.0   \n",
       "\n",
       "   BsmtFullBath  BsmtHalfBath  BsmtUnfSF  EnclosedPorch        ...         \\\n",
       "0           1.0      0.000000   5.017280       0.000000        ...          \n",
       "1           0.0      0.693147   5.652489       0.000000        ...          \n",
       "2           1.0      0.000000   6.075346       0.000000        ...          \n",
       "3           1.0      0.000000   6.293419       5.609472        ...          \n",
       "4           1.0      0.000000   6.196444       0.000000        ...          \n",
       "\n",
       "   SaleType_ConLD  SaleType_ConLI  SaleType_ConLw  SaleType_New  SaleType_Oth  \\\n",
       "0               0               0               0             0             0   \n",
       "1               0               0               0             0             0   \n",
       "2               0               0               0             0             0   \n",
       "3               0               0               0             0             0   \n",
       "4               0               0               0             0             0   \n",
       "\n",
       "   SaleType_WD  Street_Grvl  Street_Pave  Utilities_AllPub  Utilities_NoSeWa  \n",
       "0            1            0            1                 1                 0  \n",
       "1            1            0            1                 1                 0  \n",
       "2            1            0            1                 1                 0  \n",
       "3            1            0            1                 1                 0  \n",
       "4            1            0            1                 1                 0  \n",
       "\n",
       "[5 rows x 303 columns]"
      ]
     },
     "execution_count": 42,
     "metadata": {},
     "output_type": "execute_result"
    }
   ],
   "source": [
    "train_data.head()"
   ]
  },
  {
   "cell_type": "code",
   "execution_count": 35,
   "metadata": {
    "collapsed": false
   },
   "outputs": [],
   "source": [
    "train_data = house_all[:house_train.shape[0]]\n",
    "test_data = house_all[house_train.shape[0]:]\n",
    "\n",
    "test_data = test_data.drop('SalePrice', axis=1)\n",
    "train_vals = train_data.SalePrice\n",
    "train_data = train_data.drop('SalePrice', axis=1)"
   ]
  },
  {
   "cell_type": "markdown",
   "metadata": {
    "collapsed": false
   },
   "source": [
    "Model Testing\n",
    "=======\n",
    "\n",
    "Ridge Regression\n",
    "------------------"
   ]
  },
  {
   "cell_type": "code",
   "execution_count": 75,
   "metadata": {
    "collapsed": false
   },
   "outputs": [],
   "source": [
    "from sklearn.linear_model import Ridge, RidgeCV, ElasticNet, LassoCV, LassoLarsCV\n",
    "from sklearn.model_selection import cross_val_score"
   ]
  },
  {
   "cell_type": "markdown",
   "metadata": {},
   "source": [
    "Define a function which does cross validation on the training data by splitting it into 5 segments"
   ]
  },
  {
   "cell_type": "code",
   "execution_count": 12,
   "metadata": {
    "collapsed": true
   },
   "outputs": [],
   "source": [
    "def rmse_crossval(model):\n",
    "    return np.sqrt(-cross_val_score(model,\n",
    "                                    train_data,\n",
    "                                    train_vals,\n",
    "                                    scoring=\"neg_mean_squared_error\",\n",
    "                                    cv = 5))"
   ]
  },
  {
   "cell_type": "markdown",
   "metadata": {},
   "source": [
    "Try varying values of alpha and plot the RMSE from cross-validation.  Alpha = 10 is best."
   ]
  },
  {
   "cell_type": "code",
   "execution_count": 42,
   "metadata": {
    "collapsed": false
   },
   "outputs": [
    {
     "data": {
      "text/plain": [
       "<matplotlib.axes._subplots.AxesSubplot at 0x7fd11b66c7b8>"
      ]
     },
     "execution_count": 42,
     "metadata": {},
     "output_type": "execute_result"
    },
    {
     "data": {
      "image/png": "[encoded data removed]",
      "text/plain": [
       "<matplotlib.figure.Figure at 0x7fd11b907550>"
      ]
     },
     "metadata": {},
     "output_type": "display_data"
    }
   ],
   "source": [
    "alphas = [0.05, 0.1, 0.3, 1, 3, 5, 8, 10, 12, 15, 30, 50, 75]\n",
    "ridges = [rmse_crossval(Ridge(alpha = alpha)).mean() for alpha in alphas]\n",
    "\n",
    "pd.Series(ridges, index = alphas).plot()"
   ]
  },
  {
   "cell_type": "code",
   "execution_count": 40,
   "metadata": {
    "collapsed": false
   },
   "outputs": [
    {
     "data": {
      "text/plain": [
       "<matplotlib.axes._subplots.AxesSubplot at 0x7fd11b789d30>"
      ]
     },
     "execution_count": 40,
     "metadata": {},
     "output_type": "execute_result"
    },
    {
     "data": {
      "image/png": "[encoded data removed]",
      "text/plain": [
       "<matplotlib.figure.Figure at 0x7fd11b725080>"
      ]
     },
     "metadata": {},
     "output_type": "display_data"
    }
   ],
   "source": [
    "ridge_model = Ridge(alpha = 10)\n",
    "predicted_vals = ridge_model.fit(train_data, train_vals).predict(train_data)\n",
    "pd.DataFrame({\"predicted\": predicted_vals,\n",
    "              \"residuals\": train_vals - predicted_vals}).plot(x=\"predicted\", y=\"residuals\", kind=\"scatter\")\n"
   ]
  },
  {
   "cell_type": "markdown",
   "metadata": {},
   "source": [
    "Lasso Model\n",
    "-----------"
   ]
  },
  {
   "cell_type": "code",
   "execution_count": 79,
   "metadata": {
    "collapsed": false
   },
   "outputs": [],
   "source": [
    "lalphas = [1, 0.1, 0.001, 0.0005, 0.0001, 0.00005]\n",
    "lasso_model = LassoCV(alphas = lalphas).fit(train_data, train_vals)"
   ]
  },
  {
   "cell_type": "code",
   "execution_count": 82,
   "metadata": {
    "collapsed": false
   },
   "outputs": [
    {
     "data": {
      "text/plain": [
       "0.00050000000000000001"
      ]
     },
     "execution_count": 82,
     "metadata": {},
     "output_type": "execute_result"
    }
   ],
   "source": [
    "lasso_model.alpha_"
   ]
  },
  {
   "cell_type": "code",
   "execution_count": 83,
   "metadata": {
    "collapsed": false
   },
   "outputs": [
    {
     "ename": "NameError",
     "evalue": "name 'rmse_crossval' is not defined",
     "output_type": "error",
     "traceback": [
      "\u001b[0;31m---------------------------------------------------------------------------\u001b[0m",
      "\u001b[0;31mNameError\u001b[0m                                 Traceback (most recent call last)",
      "\u001b[0;32m<ipython-input-83-4915da822476>\u001b[0m in \u001b[0;36m<module>\u001b[0;34m()\u001b[0m\n\u001b[0;32m----> 1\u001b[0;31m \u001b[0mrmse_crossval\u001b[0m\u001b[0;34m(\u001b[0m\u001b[0mlasso_model\u001b[0m\u001b[0;34m)\u001b[0m\u001b[0;34m.\u001b[0m\u001b[0mmean\u001b[0m\u001b[0;34m(\u001b[0m\u001b[0;34m)\u001b[0m\u001b[0;34m\u001b[0m\u001b[0m\n\u001b[0m",
      "\u001b[0;31mNameError\u001b[0m: name 'rmse_crossval' is not defined"
     ]
    }
   ],
   "source": [
    "rmse_crossval(lasso_model).mean()"
   ]
  },
  {
   "cell_type": "code",
   "execution_count": 19,
   "metadata": {
    "collapsed": false
   },
   "outputs": [],
   "source": [
    "coef = pd.Series(lasso_model.coef_, index = train_data.columns)"
   ]
  },
  {
   "cell_type": "code",
   "execution_count": 20,
   "metadata": {
    "collapsed": false
   },
   "outputs": [
    {
     "name": "stdout",
     "output_type": "stream",
     "text": [
      "Lasso picked 112 variables and eliminated the other 191 variables\n"
     ]
    }
   ],
   "source": [
    "print(\"Lasso picked \" + str(sum(coef != 0)) + \" variables and eliminated the other \" +  str(sum(coef == 0)) + \" variables\")"
   ]
  },
  {
   "cell_type": "code",
   "execution_count": 21,
   "metadata": {
    "collapsed": false
   },
   "outputs": [
    {
     "data": {
      "application/javascript": [
       "/* Put everything inside the global mpl namespace */\n",
       "window.mpl = {};\n",
       "\n",
       "\n",
       "mpl.get_websocket_type = function() {\n",
       "    if (typeof(WebSocket) !== 'undefined') {\n",
       "        return WebSocket;\n",
       "    } else if (typeof(MozWebSocket) !== 'undefined') {\n",
       "        return MozWebSocket;\n",
       "    } else {\n",
       "        alert('Your browser does not have WebSocket support.' +\n",
       "              'Please try Chrome, Safari or Firefox ≥ 6. ' +\n",
       "              'Firefox 4 and 5 are also supported but you ' +\n",
       "              'have to enable WebSockets in about:config.');\n",
       "    };\n",
       "}\n",
       "\n",
       "mpl.figure = function(figure_id, websocket, ondownload, parent_element) {\n",
       "    this.id = figure_id;\n",
       "\n",
       "    this.ws = websocket;\n",
       "\n",
       "    this.supports_binary = (this.ws.binaryType != undefined);\n",
       "\n",
       "    if (!this.supports_binary) {\n",
       "        var warnings = document.getElementById(\"mpl-warnings\");\n",
       "        if (warnings) {\n",
       "            warnings.style.display = 'block';\n",
       "            warnings.textContent = (\n",
       "                \"This browser does not support binary websocket messages. \" +\n",
       "                    \"Performance may be slow.\");\n",
       "        }\n",
       "    }\n",
       "\n",
       "    this.imageObj = new Image();\n",
       "\n",
       "    this.context = undefined;\n",
       "    this.message = undefined;\n",
       "    this.canvas = undefined;\n",
       "    this.rubberband_canvas = undefined;\n",
       "    this.rubberband_context = undefined;\n",
       "    this.format_dropdown = undefined;\n",
       "\n",
       "    this.image_mode = 'full';\n",
       "\n",
       "    this.root = $('<div/>');\n",
       "    this._root_extra_style(this.root)\n",
       "    this.root.attr('style', 'display: inline-block');\n",
       "\n",
       "    $(parent_element).append(this.root);\n",
       "\n",
       "    this._init_header(this);\n",
       "    this._init_canvas(this);\n",
       "    this._init_toolbar(this);\n",
       "\n",
       "    var fig = this;\n",
       "\n",
       "    this.waiting = false;\n",
       "\n",
       "    this.ws.onopen =  function () {\n",
       "            fig.send_message(\"supports_binary\", {value: fig.supports_binary});\n",
       "            fig.send_message(\"send_image_mode\", {});\n",
       "            if (mpl.ratio != 1) {\n",
       "                fig.send_message(\"set_dpi_ratio\", {'dpi_ratio': mpl.ratio});\n",
       "            }\n",
       "            fig.send_message(\"refresh\", {});\n",
       "        }\n",
       "\n",
       "    this.imageObj.onload = function() {\n",
       "            if (fig.image_mode == 'full') {\n",
       "                // Full images could contain transparency (where diff images\n",
       "                // almost always do), so we need to clear the canvas so that\n",
       "                // there is no ghosting.\n",
       "                fig.context.clearRect(0, 0, fig.canvas.width, fig.canvas.height);\n",
       "            }\n",
       "            fig.context.drawImage(fig.imageObj, 0, 0);\n",
       "        };\n",
       "\n",
       "    this.imageObj.onunload = function() {\n",
       "        this.ws.close();\n",
       "    }\n",
       "\n",
       "    this.ws.onmessage = this._make_on_message_function(this);\n",
       "\n",
       "    this.ondownload = ondownload;\n",
       "}\n",
       "\n",
       "mpl.figure.prototype._init_header = function() {\n",
       "    var titlebar = $(\n",
       "        '<div class=\"ui-dialog-titlebar ui-widget-header ui-corner-all ' +\n",
       "        'ui-helper-clearfix\"/>');\n",
       "    var titletext = $(\n",
       "        '<div class=\"ui-dialog-title\" style=\"width: 100%; ' +\n",
       "        'text-align: center; padding: 3px;\"/>');\n",
       "    titlebar.append(titletext)\n",
       "    this.root.append(titlebar);\n",
       "    this.header = titletext[0];\n",
       "}\n",
       "\n",
       "\n",
       "\n",
       "mpl.figure.prototype._canvas_extra_style = function(canvas_div) {\n",
       "\n",
       "}\n",
       "\n",
       "\n",
       "mpl.figure.prototype._root_extra_style = function(canvas_div) {\n",
       "\n",
       "}\n",
       "\n",
       "mpl.figure.prototype._init_canvas = function() {\n",
       "    var fig = this;\n",
       "\n",
       "    var canvas_div = $('<div/>');\n",
       "\n",
       "    canvas_div.attr('style', 'position: relative; clear: both; outline: 0');\n",
       "\n",
       "    function canvas_keyboard_event(event) {\n",
       "        return fig.key_event(event, event['data']);\n",
       "    }\n",
       "\n",
       "    canvas_div.keydown('key_press', canvas_keyboard_event);\n",
       "    canvas_div.keyup('key_release', canvas_keyboard_event);\n",
       "    this.canvas_div = canvas_div\n",
       "    this._canvas_extra_style(canvas_div)\n",
       "    this.root.append(canvas_div);\n",
       "\n",
       "    var canvas = $('<canvas/>');\n",
       "    canvas.addClass('mpl-canvas');\n",
       "    canvas.attr('style', \"left: 0; top: 0; z-index: 0; outline: 0\")\n",
       "\n",
       "    this.canvas = canvas[0];\n",
       "    this.context = canvas[0].getContext(\"2d\");\n",
       "\n",
       "    var backingStore = this.context.backingStorePixelRatio ||\n",
       "\tthis.context.webkitBackingStorePixelRatio ||\n",
       "\tthis.context.mozBackingStorePixelRatio ||\n",
       "\tthis.context.msBackingStorePixelRatio ||\n",
       "\tthis.context.oBackingStorePixelRatio ||\n",
       "\tthis.context.backingStorePixelRatio || 1;\n",
       "\n",
       "    mpl.ratio = (window.devicePixelRatio || 1) / backingStore;\n",
       "\n",
       "    var rubberband = $('<canvas/>');\n",
       "    rubberband.attr('style', \"position: absolute; left: 0; top: 0; z-index: 1;\")\n",
       "\n",
       "    var pass_mouse_events = true;\n",
       "\n",
       "    canvas_div.resizable({\n",
       "        start: function(event, ui) {\n",
       "            pass_mouse_events = false;\n",
       "        },\n",
       "        resize: function(event, ui) {\n",
       "            fig.request_resize(ui.size.width, ui.size.height);\n",
       "        },\n",
       "        stop: function(event, ui) {\n",
       "            pass_mouse_events = true;\n",
       "            fig.request_resize(ui.size.width, ui.size.height);\n",
       "        },\n",
       "    });\n",
       "\n",
       "    function mouse_event_fn(event) {\n",
       "        if (pass_mouse_events)\n",
       "            return fig.mouse_event(event, event['data']);\n",
       "    }\n",
       "\n",
       "    rubberband.mousedown('button_press', mouse_event_fn);\n",
       "    rubberband.mouseup('button_release', mouse_event_fn);\n",
       "    // Throttle sequential mouse events to 1 every 20ms.\n",
       "    rubberband.mousemove('motion_notify', mouse_event_fn);\n",
       "\n",
       "    rubberband.mouseenter('figure_enter', mouse_event_fn);\n",
       "    rubberband.mouseleave('figure_leave', mouse_event_fn);\n",
       "\n",
       "    canvas_div.on(\"wheel\", function (event) {\n",
       "        event = event.originalEvent;\n",
       "        event['data'] = 'scroll'\n",
       "        if (event.deltaY < 0) {\n",
       "            event.step = 1;\n",
       "        } else {\n",
       "            event.step = -1;\n",
       "        }\n",
       "        mouse_event_fn(event);\n",
       "    });\n",
       "\n",
       "    canvas_div.append(canvas);\n",
       "    canvas_div.append(rubberband);\n",
       "\n",
       "    this.rubberband = rubberband;\n",
       "    this.rubberband_canvas = rubberband[0];\n",
       "    this.rubberband_context = rubberband[0].getContext(\"2d\");\n",
       "    this.rubberband_context.strokeStyle = \"#000000\";\n",
       "\n",
       "    this._resize_canvas = function(width, height) {\n",
       "        // Keep the size of the canvas, canvas container, and rubber band\n",
       "        // canvas in synch.\n",
       "        canvas_div.css('width', width)\n",
       "        canvas_div.css('height', height)\n",
       "\n",
       "        canvas.attr('width', width * mpl.ratio);\n",
       "        canvas.attr('height', height * mpl.ratio);\n",
       "        canvas.attr('style', 'width: ' + width + 'px; height: ' + height + 'px;');\n",
       "\n",
       "        rubberband.attr('width', width);\n",
       "        rubberband.attr('height', height);\n",
       "    }\n",
       "\n",
       "    // Set the figure to an initial 600x600px, this will subsequently be updated\n",
       "    // upon first draw.\n",
       "    this._resize_canvas(600, 600);\n",
       "\n",
       "    // Disable right mouse context menu.\n",
       "    $(this.rubberband_canvas).bind(\"contextmenu\",function(e){\n",
       "        return false;\n",
       "    });\n",
       "\n",
       "    function set_focus () {\n",
       "        canvas.focus();\n",
       "        canvas_div.focus();\n",
       "    }\n",
       "\n",
       "    window.setTimeout(set_focus, 100);\n",
       "}\n",
       "\n",
       "mpl.figure.prototype._init_toolbar = function() {\n",
       "    var fig = this;\n",
       "\n",
       "    var nav_element = $('<div/>')\n",
       "    nav_element.attr('style', 'width: 100%');\n",
       "    this.root.append(nav_element);\n",
       "\n",
       "    // Define a callback function for later on.\n",
       "    function toolbar_event(event) {\n",
       "        return fig.toolbar_button_onclick(event['data']);\n",
       "    }\n",
       "    function toolbar_mouse_event(event) {\n",
       "        return fig.toolbar_button_onmouseover(event['data']);\n",
       "    }\n",
       "\n",
       "    for(var toolbar_ind in mpl.toolbar_items) {\n",
       "        var name = mpl.toolbar_items[toolbar_ind][0];\n",
       "        var tooltip = mpl.toolbar_items[toolbar_ind][1];\n",
       "        var image = mpl.toolbar_items[toolbar_ind][2];\n",
       "        var method_name = mpl.toolbar_items[toolbar_ind][3];\n",
       "\n",
       "        if (!name) {\n",
       "            // put a spacer in here.\n",
       "            continue;\n",
       "        }\n",
       "        var button = $('<button/>');\n",
       "        button.addClass('ui-button ui-widget ui-state-default ui-corner-all ' +\n",
       "                        'ui-button-icon-only');\n",
       "        button.attr('role', 'button');\n",
       "        button.attr('aria-disabled', 'false');\n",
       "        button.click(method_name, toolbar_event);\n",
       "        button.mouseover(tooltip, toolbar_mouse_event);\n",
       "\n",
       "        var icon_img = $('<span/>');\n",
       "        icon_img.addClass('ui-button-icon-primary ui-icon');\n",
       "        icon_img.addClass(image);\n",
       "        icon_img.addClass('ui-corner-all');\n",
       "\n",
       "        var tooltip_span = $('<span/>');\n",
       "        tooltip_span.addClass('ui-button-text');\n",
       "        tooltip_span.html(tooltip);\n",
       "\n",
       "        button.append(icon_img);\n",
       "        button.append(tooltip_span);\n",
       "\n",
       "        nav_element.append(button);\n",
       "    }\n",
       "\n",
       "    var fmt_picker_span = $('<span/>');\n",
       "\n",
       "    var fmt_picker = $('<select/>');\n",
       "    fmt_picker.addClass('mpl-toolbar-option ui-widget ui-widget-content');\n",
       "    fmt_picker_span.append(fmt_picker);\n",
       "    nav_element.append(fmt_picker_span);\n",
       "    this.format_dropdown = fmt_picker[0];\n",
       "\n",
       "    for (var ind in mpl.extensions) {\n",
       "        var fmt = mpl.extensions[ind];\n",
       "        var option = $(\n",
       "            '<option/>', {selected: fmt === mpl.default_extension}).html(fmt);\n",
       "        fmt_picker.append(option)\n",
       "    }\n",
       "\n",
       "    // Add hover states to the ui-buttons\n",
       "    $( \".ui-button\" ).hover(\n",
       "        function() { $(this).addClass(\"ui-state-hover\");},\n",
       "        function() { $(this).removeClass(\"ui-state-hover\");}\n",
       "    );\n",
       "\n",
       "    var status_bar = $('<span class=\"mpl-message\"/>');\n",
       "    nav_element.append(status_bar);\n",
       "    this.message = status_bar[0];\n",
       "}\n",
       "\n",
       "mpl.figure.prototype.request_resize = function(x_pixels, y_pixels) {\n",
       "    // Request matplotlib to resize the figure. Matplotlib will then trigger a resize in the client,\n",
       "    // which will in turn request a refresh of the image.\n",
       "    this.send_message('resize', {'width': x_pixels, 'height': y_pixels});\n",
       "}\n",
       "\n",
       "mpl.figure.prototype.send_message = function(type, properties) {\n",
       "    properties['type'] = type;\n",
       "    properties['figure_id'] = this.id;\n",
       "    this.ws.send(JSON.stringify(properties));\n",
       "}\n",
       "\n",
       "mpl.figure.prototype.send_draw_message = function() {\n",
       "    if (!this.waiting) {\n",
       "        this.waiting = true;\n",
       "        this.ws.send(JSON.stringify({type: \"draw\", figure_id: this.id}));\n",
       "    }\n",
       "}\n",
       "\n",
       "\n",
       "mpl.figure.prototype.handle_save = function(fig, msg) {\n",
       "    var format_dropdown = fig.format_dropdown;\n",
       "    var format = format_dropdown.options[format_dropdown.selectedIndex].value;\n",
       "    fig.ondownload(fig, format);\n",
       "}\n",
       "\n",
       "\n",
       "mpl.figure.prototype.handle_resize = function(fig, msg) {\n",
       "    var size = msg['size'];\n",
       "    if (size[0] != fig.canvas.width || size[1] != fig.canvas.height) {\n",
       "        fig._resize_canvas(size[0], size[1]);\n",
       "        fig.send_message(\"refresh\", {});\n",
       "    };\n",
       "}\n",
       "\n",
       "mpl.figure.prototype.handle_rubberband = function(fig, msg) {\n",
       "    var x0 = msg['x0'] / mpl.ratio;\n",
       "    var y0 = (fig.canvas.height - msg['y0']) / mpl.ratio;\n",
       "    var x1 = msg['x1'] / mpl.ratio;\n",
       "    var y1 = (fig.canvas.height - msg['y1']) / mpl.ratio;\n",
       "    x0 = Math.floor(x0) + 0.5;\n",
       "    y0 = Math.floor(y0) + 0.5;\n",
       "    x1 = Math.floor(x1) + 0.5;\n",
       "    y1 = Math.floor(y1) + 0.5;\n",
       "    var min_x = Math.min(x0, x1);\n",
       "    var min_y = Math.min(y0, y1);\n",
       "    var width = Math.abs(x1 - x0);\n",
       "    var height = Math.abs(y1 - y0);\n",
       "\n",
       "    fig.rubberband_context.clearRect(\n",
       "        0, 0, fig.canvas.width, fig.canvas.height);\n",
       "\n",
       "    fig.rubberband_context.strokeRect(min_x, min_y, width, height);\n",
       "}\n",
       "\n",
       "mpl.figure.prototype.handle_figure_label = function(fig, msg) {\n",
       "    // Updates the figure title.\n",
       "    fig.header.textContent = msg['label'];\n",
       "}\n",
       "\n",
       "mpl.figure.prototype.handle_cursor = function(fig, msg) {\n",
       "    var cursor = msg['cursor'];\n",
       "    switch(cursor)\n",
       "    {\n",
       "    case 0:\n",
       "        cursor = 'pointer';\n",
       "        break;\n",
       "    case 1:\n",
       "        cursor = 'default';\n",
       "        break;\n",
       "    case 2:\n",
       "        cursor = 'crosshair';\n",
       "        break;\n",
       "    case 3:\n",
       "        cursor = 'move';\n",
       "        break;\n",
       "    }\n",
       "    fig.rubberband_canvas.style.cursor = cursor;\n",
       "}\n",
       "\n",
       "mpl.figure.prototype.handle_message = function(fig, msg) {\n",
       "    fig.message.textContent = msg['message'];\n",
       "}\n",
       "\n",
       "mpl.figure.prototype.handle_draw = function(fig, msg) {\n",
       "    // Request the server to send over a new figure.\n",
       "    fig.send_draw_message();\n",
       "}\n",
       "\n",
       "mpl.figure.prototype.handle_image_mode = function(fig, msg) {\n",
       "    fig.image_mode = msg['mode'];\n",
       "}\n",
       "\n",
       "mpl.figure.prototype.updated_canvas_event = function() {\n",
       "    // Called whenever the canvas gets updated.\n",
       "    this.send_message(\"ack\", {});\n",
       "}\n",
       "\n",
       "// A function to construct a web socket function for onmessage handling.\n",
       "// Called in the figure constructor.\n",
       "mpl.figure.prototype._make_on_message_function = function(fig) {\n",
       "    return function socket_on_message(evt) {\n",
       "        if (evt.data instanceof Blob) {\n",
       "            /* FIXME: We get \"Resource interpreted as Image but\n",
       "             * transferred with MIME type text/plain:\" errors on\n",
       "             * Chrome.  But how to set the MIME type?  It doesn't seem\n",
       "             * to be part of the websocket stream */\n",
       "            evt.data.type = \"image/png\";\n",
       "\n",
       "            /* Free the memory for the previous frames */\n",
       "            if (fig.imageObj.src) {\n",
       "                (window.URL || window.webkitURL).revokeObjectURL(\n",
       "                    fig.imageObj.src);\n",
       "            }\n",
       "\n",
       "            fig.imageObj.src = (window.URL || window.webkitURL).createObjectURL(\n",
       "                evt.data);\n",
       "            fig.updated_canvas_event();\n",
       "            fig.waiting = false;\n",
       "            return;\n",
       "        }\n",
       "        else if (typeof evt.data === 'string' && evt.data.slice(0, 21) == \"data:image/png;base64\") {\n",
       "            fig.imageObj.src = evt.data;\n",
       "            fig.updated_canvas_event();\n",
       "            fig.waiting = false;\n",
       "            return;\n",
       "        }\n",
       "\n",
       "        var msg = JSON.parse(evt.data);\n",
       "        var msg_type = msg['type'];\n",
       "\n",
       "        // Call the  \"handle_{type}\" callback, which takes\n",
       "        // the figure and JSON message as its only arguments.\n",
       "        try {\n",
       "            var callback = fig[\"handle_\" + msg_type];\n",
       "        } catch (e) {\n",
       "            console.log(\"No handler for the '\" + msg_type + \"' message type: \", msg);\n",
       "            return;\n",
       "        }\n",
       "\n",
       "        if (callback) {\n",
       "            try {\n",
       "                // console.log(\"Handling '\" + msg_type + \"' message: \", msg);\n",
       "                callback(fig, msg);\n",
       "            } catch (e) {\n",
       "                console.log(\"Exception inside the 'handler_\" + msg_type + \"' callback:\", e, e.stack, msg);\n",
       "            }\n",
       "        }\n",
       "    };\n",
       "}\n",
       "\n",
       "// from http://stackoverflow.com/questions/1114465/getting-mouse-location-in-canvas\n",
       "mpl.findpos = function(e) {\n",
       "    //this section is from http://www.quirksmode.org/js/events_properties.html\n",
       "    var targ;\n",
       "    if (!e)\n",
       "        e = window.event;\n",
       "    if (e.target)\n",
       "        targ = e.target;\n",
       "    else if (e.srcElement)\n",
       "        targ = e.srcElement;\n",
       "    if (targ.nodeType == 3) // defeat Safari bug\n",
       "        targ = targ.parentNode;\n",
       "\n",
       "    // jQuery normalizes the pageX and pageY\n",
       "    // pageX,Y are the mouse positions relative to the document\n",
       "    // offset() returns the position of the element relative to the document\n",
       "    var x = e.pageX - $(targ).offset().left;\n",
       "    var y = e.pageY - $(targ).offset().top;\n",
       "\n",
       "    return {\"x\": x, \"y\": y};\n",
       "};\n",
       "\n",
       "/*\n",
       " * return a copy of an object with only non-object keys\n",
       " * we need this to avoid circular references\n",
       " * http://stackoverflow.com/a/24161582/3208463\n",
       " */\n",
       "function simpleKeys (original) {\n",
       "  return Object.keys(original).reduce(function (obj, key) {\n",
       "    if (typeof original[key] !== 'object')\n",
       "        obj[key] = original[key]\n",
       "    return obj;\n",
       "  }, {});\n",
       "}\n",
       "\n",
       "mpl.figure.prototype.mouse_event = function(event, name) {\n",
       "    var canvas_pos = mpl.findpos(event)\n",
       "\n",
       "    if (name === 'button_press')\n",
       "    {\n",
       "        this.canvas.focus();\n",
       "        this.canvas_div.focus();\n",
       "    }\n",
       "\n",
       "    var x = canvas_pos.x * mpl.ratio;\n",
       "    var y = canvas_pos.y * mpl.ratio;\n",
       "\n",
       "    this.send_message(name, {x: x, y: y, button: event.button,\n",
       "                             step: event.step,\n",
       "                             guiEvent: simpleKeys(event)});\n",
       "\n",
       "    /* This prevents the web browser from automatically changing to\n",
       "     * the text insertion cursor when the button is pressed.  We want\n",
       "     * to control all of the cursor setting manually through the\n",
       "     * 'cursor' event from matplotlib */\n",
       "    event.preventDefault();\n",
       "    return false;\n",
       "}\n",
       "\n",
       "mpl.figure.prototype._key_event_extra = function(event, name) {\n",
       "    // Handle any extra behaviour associated with a key event\n",
       "}\n",
       "\n",
       "mpl.figure.prototype.key_event = function(event, name) {\n",
       "\n",
       "    // Prevent repeat events\n",
       "    if (name == 'key_press')\n",
       "    {\n",
       "        if (event.which === this._key)\n",
       "            return;\n",
       "        else\n",
       "            this._key = event.which;\n",
       "    }\n",
       "    if (name == 'key_release')\n",
       "        this._key = null;\n",
       "\n",
       "    var value = '';\n",
       "    if (event.ctrlKey && event.which != 17)\n",
       "        value += \"ctrl+\";\n",
       "    if (event.altKey && event.which != 18)\n",
       "        value += \"alt+\";\n",
       "    if (event.shiftKey && event.which != 16)\n",
       "        value += \"shift+\";\n",
       "\n",
       "    value += 'k';\n",
       "    value += event.which.toString();\n",
       "\n",
       "    this._key_event_extra(event, name);\n",
       "\n",
       "    this.send_message(name, {key: value,\n",
       "                             guiEvent: simpleKeys(event)});\n",
       "    return false;\n",
       "}\n",
       "\n",
       "mpl.figure.prototype.toolbar_button_onclick = function(name) {\n",
       "    if (name == 'download') {\n",
       "        this.handle_save(this, null);\n",
       "    } else {\n",
       "        this.send_message(\"toolbar_button\", {name: name});\n",
       "    }\n",
       "};\n",
       "\n",
       "mpl.figure.prototype.toolbar_button_onmouseover = function(tooltip) {\n",
       "    this.message.textContent = tooltip;\n",
       "};\n",
       "mpl.toolbar_items = [[\"Home\", \"Reset original view\", \"fa fa-home icon-home\", \"home\"], [\"Back\", \"Back to  previous view\", \"fa fa-arrow-left icon-arrow-left\", \"back\"], [\"Forward\", \"Forward to next view\", \"fa fa-arrow-right icon-arrow-right\", \"forward\"], [\"\", \"\", \"\", \"\"], [\"Pan\", \"Pan axes with left mouse, zoom with right\", \"fa fa-arrows icon-move\", \"pan\"], [\"Zoom\", \"Zoom to rectangle\", \"fa fa-square-o icon-check-empty\", \"zoom\"], [\"\", \"\", \"\", \"\"], [\"Download\", \"Download plot\", \"fa fa-floppy-o icon-save\", \"download\"]];\n",
       "\n",
       "mpl.extensions = [\"eps\", \"pdf\", \"png\", \"ps\", \"raw\", \"svg\"];\n",
       "\n",
       "mpl.default_extension = \"png\";var comm_websocket_adapter = function(comm) {\n",
       "    // Create a \"websocket\"-like object which calls the given IPython comm\n",
       "    // object with the appropriate methods. Currently this is a non binary\n",
       "    // socket, so there is still some room for performance tuning.\n",
       "    var ws = {};\n",
       "\n",
       "    ws.close = function() {\n",
       "        comm.close()\n",
       "    };\n",
       "    ws.send = function(m) {\n",
       "        //console.log('sending', m);\n",
       "        comm.send(m);\n",
       "    };\n",
       "    // Register the callback with on_msg.\n",
       "    comm.on_msg(function(msg) {\n",
       "        //console.log('receiving', msg['content']['data'], msg);\n",
       "        // Pass the mpl event to the overriden (by mpl) onmessage function.\n",
       "        ws.onmessage(msg['content']['data'])\n",
       "    });\n",
       "    return ws;\n",
       "}\n",
       "\n",
       "mpl.mpl_figure_comm = function(comm, msg) {\n",
       "    // This is the function which gets called when the mpl process\n",
       "    // starts-up an IPython Comm through the \"matplotlib\" channel.\n",
       "\n",
       "    var id = msg.content.data.id;\n",
       "    // Get hold of the div created by the display call when the Comm\n",
       "    // socket was opened in Python.\n",
       "    var element = $(\"#\" + id);\n",
       "    var ws_proxy = comm_websocket_adapter(comm)\n",
       "\n",
       "    function ondownload(figure, format) {\n",
       "        window.open(figure.imageObj.src);\n",
       "    }\n",
       "\n",
       "    var fig = new mpl.figure(id, ws_proxy,\n",
       "                           ondownload,\n",
       "                           element.get(0));\n",
       "\n",
       "    // Call onopen now - mpl needs it, as it is assuming we've passed it a real\n",
       "    // web socket which is closed, not our websocket->open comm proxy.\n",
       "    ws_proxy.onopen();\n",
       "\n",
       "    fig.parent_element = element.get(0);\n",
       "    fig.cell_info = mpl.find_output_cell(\"<div id='\" + id + \"'></div>\");\n",
       "    if (!fig.cell_info) {\n",
       "        console.error(\"Failed to find cell for figure\", id, fig);\n",
       "        return;\n",
       "    }\n",
       "\n",
       "    var output_index = fig.cell_info[2]\n",
       "    var cell = fig.cell_info[0];\n",
       "\n",
       "};\n",
       "\n",
       "mpl.figure.prototype.handle_close = function(fig, msg) {\n",
       "    var width = fig.canvas.width/mpl.ratio\n",
       "    fig.root.unbind('remove')\n",
       "\n",
       "    // Update the output cell to use the data from the current canvas.\n",
       "    fig.push_to_output();\n",
       "    var dataURL = fig.canvas.toDataURL();\n",
       "    // Re-enable the keyboard manager in IPython - without this line, in FF,\n",
       "    // the notebook keyboard shortcuts fail.\n",
       "    IPython.keyboard_manager.enable()\n",
       "    $(fig.parent_element).html('<img src=\"' + dataURL + '\" width=\"' + width + '\">');\n",
       "    fig.close_ws(fig, msg);\n",
       "}\n",
       "\n",
       "mpl.figure.prototype.close_ws = function(fig, msg){\n",
       "    fig.send_message('closing', msg);\n",
       "    // fig.ws.close()\n",
       "}\n",
       "\n",
       "mpl.figure.prototype.push_to_output = function(remove_interactive) {\n",
       "    // Turn the data on the canvas into data in the output cell.\n",
       "    var width = this.canvas.width/mpl.ratio\n",
       "    var dataURL = this.canvas.toDataURL();\n",
       "    this.cell_info[1]['text/html'] = '<img src=\"' + dataURL + '\" width=\"' + width + '\">';\n",
       "}\n",
       "\n",
       "mpl.figure.prototype.updated_canvas_event = function() {\n",
       "    // Tell IPython that the notebook contents must change.\n",
       "    IPython.notebook.set_dirty(true);\n",
       "    this.send_message(\"ack\", {});\n",
       "    var fig = this;\n",
       "    // Wait a second, then push the new image to the DOM so\n",
       "    // that it is saved nicely (might be nice to debounce this).\n",
       "    setTimeout(function () { fig.push_to_output() }, 1000);\n",
       "}\n",
       "\n",
       "mpl.figure.prototype._init_toolbar = function() {\n",
       "    var fig = this;\n",
       "\n",
       "    var nav_element = $('<div/>')\n",
       "    nav_element.attr('style', 'width: 100%');\n",
       "    this.root.append(nav_element);\n",
       "\n",
       "    // Define a callback function for later on.\n",
       "    function toolbar_event(event) {\n",
       "        return fig.toolbar_button_onclick(event['data']);\n",
       "    }\n",
       "    function toolbar_mouse_event(event) {\n",
       "        return fig.toolbar_button_onmouseover(event['data']);\n",
       "    }\n",
       "\n",
       "    for(var toolbar_ind in mpl.toolbar_items){\n",
       "        var name = mpl.toolbar_items[toolbar_ind][0];\n",
       "        var tooltip = mpl.toolbar_items[toolbar_ind][1];\n",
       "        var image = mpl.toolbar_items[toolbar_ind][2];\n",
       "        var method_name = mpl.toolbar_items[toolbar_ind][3];\n",
       "\n",
       "        if (!name) { continue; };\n",
       "\n",
       "        var button = $('<button class=\"btn btn-default\" href=\"#\" title=\"' + name + '\"><i class=\"fa ' + image + ' fa-lg\"></i></button>');\n",
       "        button.click(method_name, toolbar_event);\n",
       "        button.mouseover(tooltip, toolbar_mouse_event);\n",
       "        nav_element.append(button);\n",
       "    }\n",
       "\n",
       "    // Add the status bar.\n",
       "    var status_bar = $('<span class=\"mpl-message\" style=\"text-align:right; float: right;\"/>');\n",
       "    nav_element.append(status_bar);\n",
       "    this.message = status_bar[0];\n",
       "\n",
       "    // Add the close button to the window.\n",
       "    var buttongrp = $('<div class=\"btn-group inline pull-right\"></div>');\n",
       "    var button = $('<button class=\"btn btn-mini btn-primary\" href=\"#\" title=\"Stop Interaction\"><i class=\"fa fa-power-off icon-remove icon-large\"></i></button>');\n",
       "    button.click(function (evt) { fig.handle_close(fig, {}); } );\n",
       "    button.mouseover('Stop Interaction', toolbar_mouse_event);\n",
       "    buttongrp.append(button);\n",
       "    var titlebar = this.root.find($('.ui-dialog-titlebar'));\n",
       "    titlebar.prepend(buttongrp);\n",
       "}\n",
       "\n",
       "mpl.figure.prototype._root_extra_style = function(el){\n",
       "    var fig = this\n",
       "    el.on(\"remove\", function(){\n",
       "\tfig.close_ws(fig, {});\n",
       "    });\n",
       "}\n",
       "\n",
       "mpl.figure.prototype._canvas_extra_style = function(el){\n",
       "    // this is important to make the div 'focusable\n",
       "    el.attr('tabindex', 0)\n",
       "    // reach out to IPython and tell the keyboard manager to turn it's self\n",
       "    // off when our div gets focus\n",
       "\n",
       "    // location in version 3\n",
       "    if (IPython.notebook.keyboard_manager) {\n",
       "        IPython.notebook.keyboard_manager.register_events(el);\n",
       "    }\n",
       "    else {\n",
       "        // location in version 2\n",
       "        IPython.keyboard_manager.register_events(el);\n",
       "    }\n",
       "\n",
       "}\n",
       "\n",
       "mpl.figure.prototype._key_event_extra = function(event, name) {\n",
       "    var manager = IPython.notebook.keyboard_manager;\n",
       "    if (!manager)\n",
       "        manager = IPython.keyboard_manager;\n",
       "\n",
       "    // Check for shift+enter\n",
       "    if (event.shiftKey && event.which == 13) {\n",
       "        this.canvas_div.blur();\n",
       "        // select the cell after this one\n",
       "        var index = IPython.notebook.find_cell_index(this.cell_info[0]);\n",
       "        IPython.notebook.select(index + 1);\n",
       "    }\n",
       "}\n",
       "\n",
       "mpl.figure.prototype.handle_save = function(fig, msg) {\n",
       "    fig.ondownload(fig, null);\n",
       "}\n",
       "\n",
       "\n",
       "mpl.find_output_cell = function(html_output) {\n",
       "    // Return the cell and output element which can be found *uniquely* in the notebook.\n",
       "    // Note - this is a bit hacky, but it is done because the \"notebook_saving.Notebook\"\n",
       "    // IPython event is triggered only after the cells have been serialised, which for\n",
       "    // our purposes (turning an active figure into a static one), is too late.\n",
       "    var cells = IPython.notebook.get_cells();\n",
       "    var ncells = cells.length;\n",
       "    for (var i=0; i<ncells; i++) {\n",
       "        var cell = cells[i];\n",
       "        if (cell.cell_type === 'code'){\n",
       "            for (var j=0; j<cell.output_area.outputs.length; j++) {\n",
       "                var data = cell.output_area.outputs[j];\n",
       "                if (data.data) {\n",
       "                    // IPython >= 3 moved mimebundle to data attribute of output\n",
       "                    data = data.data;\n",
       "                }\n",
       "                if (data['text/html'] == html_output) {\n",
       "                    return [cell, data, j];\n",
       "                }\n",
       "            }\n",
       "        }\n",
       "    }\n",
       "}\n",
       "\n",
       "// Register the function which deals with the matplotlib target/channel.\n",
       "// The kernel may be null if the page has been refreshed.\n",
       "if (IPython.notebook.kernel != null) {\n",
       "    IPython.notebook.kernel.comm_manager.register_target('matplotlib', mpl.mpl_figure_comm);\n",
       "}\n"
      ],
      "text/plain": [
       "<IPython.core.display.Javascript object>"
      ]
     },
     "metadata": {},
     "output_type": "display_data"
    },
    {
     "data": {
      "text/html": [
       "<img src=\"data:image/png;base64,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\" width=\"640\">"
      ],
      "text/plain": [
       "<IPython.core.display.HTML object>"
      ]
     },
     "metadata": {},
     "output_type": "display_data"
    },
    {
     "data": {
      "text/plain": [
       "<matplotlib.axes._subplots.AxesSubplot at 0x7fd11b94e860>"
      ]
     },
     "execution_count": 21,
     "metadata": {},
     "output_type": "execute_result"
    }
   ],
   "source": [
    "pd.DataFrame({\"predicted\": lasso_model.predict(train_data),\n",
    "              \"actual\": train_vals - lasso_model.predict(train_data)}).plot(x=\"predicted\", y=\"actual\", kind=\"scatter\")"
   ]
  },
  {
   "cell_type": "markdown",
   "metadata": {},
   "source": [
    "Support Vector Regression\n",
    "-------------------------"
   ]
  },
  {
   "cell_type": "code",
   "execution_count": 85,
   "metadata": {
    "collapsed": false
   },
   "outputs": [],
   "source": [
    "from sklearn.svm import SVR"
   ]
  },
  {
   "cell_type": "code",
   "execution_count": 101,
   "metadata": {
    "collapsed": false
   },
   "outputs": [
    {
     "data": {
      "text/plain": [
       "array([ 12.23777482,  12.09873389,  12.30712572, ...,  12.48316824,\n",
       "        11.87445352,  11.91167174])"
      ]
     },
     "execution_count": 101,
     "metadata": {},
     "output_type": "execute_result"
    }
   ],
   "source": [
    "svr_model = SVR(epsilon=0.01)\n",
    "svr_model.fit(train_data, train_vals).predict(train_data)"
   ]
  },
  {
   "cell_type": "code",
   "execution_count": 102,
   "metadata": {
    "collapsed": false
   },
   "outputs": [
    {
     "data": {
      "text/plain": [
       "<matplotlib.axes._subplots.AxesSubplot at 0x7f2ca2db8a90>"
      ]
     },
     "execution_count": 102,
     "metadata": {},
     "output_type": "execute_result"
    },
    {
     "data": {
      "image/png": "[encoded data removed]",
      "text/plain": [
       "<matplotlib.figure.Figure at 0x7f2ca2d8f048>"
      ]
     },
     "metadata": {},
     "output_type": "display_data"
    }
   ],
   "source": [
    "svr_predictions = svr_model.fit(train_data, train_vals).predict(train_data)\n",
    "\n",
    "pd.DataFrame({\"predicted\": svr_predictions,\n",
    "              \"residuals\": train_vals - svr_predictions}).plot(x=\"predicted\", y=\"residuals\", kind=\"scatter\")"
   ]
  },
  {
   "cell_type": "code",
   "execution_count": null,
   "metadata": {
    "collapsed": false
   },
   "outputs": [],
   "source": []
  }
 ],
 "metadata": {
  "kernelspec": {
   "display_name": "Python 3",
   "language": "python",
   "name": "python3"
  },
  "language_info": {
   "codemirror_mode": {
    "name": "ipython",
    "version": 3
   },
   "file_extension": ".py",
   "mimetype": "text/x-python",
   "name": "python",
   "nbconvert_exporter": "python",
   "pygments_lexer": "ipython3",
   "version": "3.5.3"
  }
 },
 "nbformat": 4,
 "nbformat_minor": 2
}
